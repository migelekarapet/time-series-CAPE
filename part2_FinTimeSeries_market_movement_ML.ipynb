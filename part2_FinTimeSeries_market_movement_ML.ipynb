{
 "cells": [
  {
   "cell_type": "code",
   "execution_count": 1,
   "metadata": {},
   "outputs": [],
   "source": [
    "# Import packages\n",
    "import numpy as np\n",
    "import time \n",
    "import pandas as pd\n",
    "from pandas import DataFrame\n",
    "import matplotlib.pyplot as plt\n",
    "#import math\n",
    "import seaborn as sns\n",
    "%matplotlib inline\n",
    "sns.set()\n",
    "from sklearn.model_selection import train_test_split\n",
    "from sklearn.metrics import mean_squared_error\n",
    "from sklearn.linear_model import LogisticRegression\n",
    "from sklearn.ensemble import RandomForestClassifier\n",
    "from sklearn import tree\n",
    "from sklearn.tree import DecisionTreeClassifier\n",
    "from sklearn.neighbors import KNeighborsClassifier\n",
    "from sklearn.model_selection import KFold\n",
    "from sklearn.metrics import make_scorer, accuracy_score, confusion_matrix\n",
    "\n",
    "from pandas import concat\n",
    "from matplotlib import pyplot\n",
    "from pandas.plotting import scatter_matrix\n",
    "\n",
    "from xgboost import XGBClassifier\n",
    "from xgboost import plot_tree\n",
    "from xgboost import plot_importance"
   ]
  },
  {
   "cell_type": "code",
   "execution_count": 2,
   "metadata": {},
   "outputs": [],
   "source": [
    "import datetime\n",
    "from datetime import datetime\n",
    "from datetime import timedelta"
   ]
  },
  {
   "cell_type": "markdown",
   "metadata": {},
   "source": [
    "The standard data loading, cleaning and missing values filling steps are below, followed by data exploration."
   ]
  },
  {
   "cell_type": "code",
   "execution_count": 3,
   "metadata": {},
   "outputs": [
    {
     "data": {
      "text/html": [
       "<div>\n",
       "<style scoped>\n",
       "    .dataframe tbody tr th:only-of-type {\n",
       "        vertical-align: middle;\n",
       "    }\n",
       "\n",
       "    .dataframe tbody tr th {\n",
       "        vertical-align: top;\n",
       "    }\n",
       "\n",
       "    .dataframe thead th {\n",
       "        text-align: right;\n",
       "    }\n",
       "</style>\n",
       "<table border=\"1\" class=\"dataframe\">\n",
       "  <thead>\n",
       "    <tr style=\"text-align: right;\">\n",
       "      <th></th>\n",
       "      <th>Date</th>\n",
       "      <th>P</th>\n",
       "      <th>D</th>\n",
       "      <th>E</th>\n",
       "      <th>CPI</th>\n",
       "      <th>Fraction</th>\n",
       "      <th>GS10</th>\n",
       "      <th>Price</th>\n",
       "      <th>Dividend</th>\n",
       "      <th>Earnings</th>\n",
       "    </tr>\n",
       "  </thead>\n",
       "  <tbody>\n",
       "    <tr>\n",
       "      <th>0</th>\n",
       "      <td>1871,01</td>\n",
       "      <td>4,44</td>\n",
       "      <td>0,26</td>\n",
       "      <td>0,40</td>\n",
       "      <td>12,46</td>\n",
       "      <td>1871,04</td>\n",
       "      <td>5,32</td>\n",
       "      <td>91,37</td>\n",
       "      <td>5,35</td>\n",
       "      <td>8,23</td>\n",
       "    </tr>\n",
       "    <tr>\n",
       "      <th>1</th>\n",
       "      <td>1871,02</td>\n",
       "      <td>4,50</td>\n",
       "      <td>0,26</td>\n",
       "      <td>0,40</td>\n",
       "      <td>12,84</td>\n",
       "      <td>1871,13</td>\n",
       "      <td>5,32</td>\n",
       "      <td>89,86</td>\n",
       "      <td>5,19</td>\n",
       "      <td>7,99</td>\n",
       "    </tr>\n",
       "    <tr>\n",
       "      <th>2</th>\n",
       "      <td>1871,03</td>\n",
       "      <td>4,61</td>\n",
       "      <td>0,26</td>\n",
       "      <td>0,40</td>\n",
       "      <td>13,03</td>\n",
       "      <td>1871,21</td>\n",
       "      <td>5,33</td>\n",
       "      <td>90,71</td>\n",
       "      <td>5,12</td>\n",
       "      <td>7,87</td>\n",
       "    </tr>\n",
       "    <tr>\n",
       "      <th>3</th>\n",
       "      <td>1871,04</td>\n",
       "      <td>4,74</td>\n",
       "      <td>0,26</td>\n",
       "      <td>0,40</td>\n",
       "      <td>12,56</td>\n",
       "      <td>1871,29</td>\n",
       "      <td>5,33</td>\n",
       "      <td>96,81</td>\n",
       "      <td>5,31</td>\n",
       "      <td>8,17</td>\n",
       "    </tr>\n",
       "    <tr>\n",
       "      <th>4</th>\n",
       "      <td>1871,05</td>\n",
       "      <td>4,86</td>\n",
       "      <td>0,26</td>\n",
       "      <td>0,40</td>\n",
       "      <td>12,27</td>\n",
       "      <td>1871,37</td>\n",
       "      <td>5,33</td>\n",
       "      <td>101,57</td>\n",
       "      <td>5,43</td>\n",
       "      <td>8,36</td>\n",
       "    </tr>\n",
       "    <tr>\n",
       "      <th>5</th>\n",
       "      <td>1871,06</td>\n",
       "      <td>4,82</td>\n",
       "      <td>0,26</td>\n",
       "      <td>0,40</td>\n",
       "      <td>12,08</td>\n",
       "      <td>1871,46</td>\n",
       "      <td>5,34</td>\n",
       "      <td>102,32</td>\n",
       "      <td>5,52</td>\n",
       "      <td>8,49</td>\n",
       "    </tr>\n",
       "    <tr>\n",
       "      <th>6</th>\n",
       "      <td>1871,07</td>\n",
       "      <td>4,73</td>\n",
       "      <td>0,26</td>\n",
       "      <td>0,40</td>\n",
       "      <td>12,08</td>\n",
       "      <td>1871,54</td>\n",
       "      <td>5,34</td>\n",
       "      <td>100,41</td>\n",
       "      <td>5,52</td>\n",
       "      <td>8,49</td>\n",
       "    </tr>\n",
       "    <tr>\n",
       "      <th>7</th>\n",
       "      <td>1871,08</td>\n",
       "      <td>4,79</td>\n",
       "      <td>0,26</td>\n",
       "      <td>0,40</td>\n",
       "      <td>11,89</td>\n",
       "      <td>1871,62</td>\n",
       "      <td>5,34</td>\n",
       "      <td>103,31</td>\n",
       "      <td>5,61</td>\n",
       "      <td>8,63</td>\n",
       "    </tr>\n",
       "    <tr>\n",
       "      <th>8</th>\n",
       "      <td>1871,09</td>\n",
       "      <td>4,84</td>\n",
       "      <td>0,26</td>\n",
       "      <td>0,40</td>\n",
       "      <td>12,18</td>\n",
       "      <td>1871,71</td>\n",
       "      <td>5,35</td>\n",
       "      <td>101,94</td>\n",
       "      <td>5,48</td>\n",
       "      <td>8,42</td>\n",
       "    </tr>\n",
       "    <tr>\n",
       "      <th>9</th>\n",
       "      <td>1871,1</td>\n",
       "      <td>4,59</td>\n",
       "      <td>0,26</td>\n",
       "      <td>0,40</td>\n",
       "      <td>12,37</td>\n",
       "      <td>1871,79</td>\n",
       "      <td>5,35</td>\n",
       "      <td>95,19</td>\n",
       "      <td>5,39</td>\n",
       "      <td>8,30</td>\n",
       "    </tr>\n",
       "    <tr>\n",
       "      <th>10</th>\n",
       "      <td>1871,11</td>\n",
       "      <td>4,64</td>\n",
       "      <td>0,26</td>\n",
       "      <td>0,40</td>\n",
       "      <td>12,37</td>\n",
       "      <td>1871,87</td>\n",
       "      <td>5,35</td>\n",
       "      <td>96,22</td>\n",
       "      <td>5,39</td>\n",
       "      <td>8,30</td>\n",
       "    </tr>\n",
       "    <tr>\n",
       "      <th>11</th>\n",
       "      <td>1871,12</td>\n",
       "      <td>4,74</td>\n",
       "      <td>0,26</td>\n",
       "      <td>0,40</td>\n",
       "      <td>12,65</td>\n",
       "      <td>1871,96</td>\n",
       "      <td>5,36</td>\n",
       "      <td>96,08</td>\n",
       "      <td>5,27</td>\n",
       "      <td>8,11</td>\n",
       "    </tr>\n",
       "    <tr>\n",
       "      <th>12</th>\n",
       "      <td>1872,01</td>\n",
       "      <td>4,86</td>\n",
       "      <td>0,26</td>\n",
       "      <td>0,40</td>\n",
       "      <td>12,65</td>\n",
       "      <td>1872,04</td>\n",
       "      <td>5,36</td>\n",
       "      <td>98,51</td>\n",
       "      <td>5,34</td>\n",
       "      <td>8,16</td>\n",
       "    </tr>\n",
       "    <tr>\n",
       "      <th>13</th>\n",
       "      <td>1872,02</td>\n",
       "      <td>4,88</td>\n",
       "      <td>0,27</td>\n",
       "      <td>0,41</td>\n",
       "      <td>12,65</td>\n",
       "      <td>1872,12</td>\n",
       "      <td>5,38</td>\n",
       "      <td>98,92</td>\n",
       "      <td>5,41</td>\n",
       "      <td>8,21</td>\n",
       "    </tr>\n",
       "    <tr>\n",
       "      <th>14</th>\n",
       "      <td>1872,03</td>\n",
       "      <td>5,04</td>\n",
       "      <td>0,27</td>\n",
       "      <td>0,41</td>\n",
       "      <td>12,84</td>\n",
       "      <td>1872,21</td>\n",
       "      <td>5,40</td>\n",
       "      <td>100,65</td>\n",
       "      <td>5,39</td>\n",
       "      <td>8,14</td>\n",
       "    </tr>\n",
       "  </tbody>\n",
       "</table>\n",
       "</div>"
      ],
      "text/plain": [
       "       Date     P     D     E    CPI Fraction  GS10   Price Dividend Earnings\n",
       "0   1871,01  4,44  0,26  0,40  12,46  1871,04  5,32   91,37     5,35     8,23\n",
       "1   1871,02  4,50  0,26  0,40  12,84  1871,13  5,32   89,86     5,19     7,99\n",
       "2   1871,03  4,61  0,26  0,40  13,03  1871,21  5,33   90,71     5,12     7,87\n",
       "3   1871,04  4,74  0,26  0,40  12,56  1871,29  5,33   96,81     5,31     8,17\n",
       "4   1871,05  4,86  0,26  0,40  12,27  1871,37  5,33  101,57     5,43     8,36\n",
       "5   1871,06  4,82  0,26  0,40  12,08  1871,46  5,34  102,32     5,52     8,49\n",
       "6   1871,07  4,73  0,26  0,40  12,08  1871,54  5,34  100,41     5,52     8,49\n",
       "7   1871,08  4,79  0,26  0,40  11,89  1871,62  5,34  103,31     5,61     8,63\n",
       "8   1871,09  4,84  0,26  0,40  12,18  1871,71  5,35  101,94     5,48     8,42\n",
       "9    1871,1  4,59  0,26  0,40  12,37  1871,79  5,35   95,19     5,39     8,30\n",
       "10  1871,11  4,64  0,26  0,40  12,37  1871,87  5,35   96,22     5,39     8,30\n",
       "11  1871,12  4,74  0,26  0,40  12,65  1871,96  5,36   96,08     5,27     8,11\n",
       "12  1872,01  4,86  0,26  0,40  12,65  1872,04  5,36   98,51     5,34     8,16\n",
       "13  1872,02  4,88  0,27  0,41  12,65  1872,12  5,38   98,92     5,41     8,21\n",
       "14  1872,03  5,04  0,27  0,41  12,84  1872,21  5,40  100,65     5,39     8,14"
      ]
     },
     "execution_count": 3,
     "metadata": {},
     "output_type": "execute_result"
    }
   ],
   "source": [
    "#used as temporary solution - if there's time must fill missing values in a more meaningful way\n",
    "df = pd.read_csv('data.csv').fillna(method='ffill')\n",
    "df.head(15)\n",
    "\n",
    "# add drop dups\n",
    "df.drop_duplicates(keep=False,inplace=True) "
   ]
  },
  {
   "cell_type": "code",
   "execution_count": 4,
   "metadata": {},
   "outputs": [],
   "source": [
    "def parse_date2(date):\n",
    "    if date.endswith(\",1\"):\n",
    "        date += \"0\"\n",
    "    return datetime.strptime(date, \"%Y,%m\")"
   ]
  },
  {
   "cell_type": "code",
   "execution_count": 5,
   "metadata": {},
   "outputs": [
    {
     "data": {
      "text/plain": [
       "'def parse_date(date):\\n    year, month = date.split(\",\", maxsplit=1)\\n    if month == \"1\":\\n        month = \"10\"\\n    return datetime(int(year), int(month), 1)'"
      ]
     },
     "execution_count": 5,
     "metadata": {},
     "output_type": "execute_result"
    }
   ],
   "source": [
    "\"\"\"def parse_date(date):\n",
    "    year, month = date.split(\",\", maxsplit=1)\n",
    "    if month == \"1\":\n",
    "        month = \"10\"\n",
    "    return datetime(int(year), int(month), 1)\"\"\""
   ]
  },
  {
   "cell_type": "code",
   "execution_count": 6,
   "metadata": {},
   "outputs": [],
   "source": [
    "# dared to drop Fractions column as the initial research shown it is not adding much value\n",
    "# e.g. https://datahub.io/core/s-and-p-500\n",
    "df.drop(\"Fraction\", axis=1, inplace=True)"
   ]
  },
  {
   "cell_type": "code",
   "execution_count": 7,
   "metadata": {},
   "outputs": [],
   "source": [
    "df['Date'] = df['Date'].apply(parse_date2)"
   ]
  },
  {
   "cell_type": "code",
   "execution_count": 8,
   "metadata": {},
   "outputs": [
    {
     "data": {
      "text/html": [
       "<div>\n",
       "<style scoped>\n",
       "    .dataframe tbody tr th:only-of-type {\n",
       "        vertical-align: middle;\n",
       "    }\n",
       "\n",
       "    .dataframe tbody tr th {\n",
       "        vertical-align: top;\n",
       "    }\n",
       "\n",
       "    .dataframe thead th {\n",
       "        text-align: right;\n",
       "    }\n",
       "</style>\n",
       "<table border=\"1\" class=\"dataframe\">\n",
       "  <thead>\n",
       "    <tr style=\"text-align: right;\">\n",
       "      <th></th>\n",
       "      <th>Date</th>\n",
       "      <th>P</th>\n",
       "      <th>D</th>\n",
       "      <th>E</th>\n",
       "      <th>CPI</th>\n",
       "      <th>GS10</th>\n",
       "      <th>Price</th>\n",
       "      <th>Dividend</th>\n",
       "      <th>Earnings</th>\n",
       "    </tr>\n",
       "  </thead>\n",
       "  <tbody>\n",
       "    <tr>\n",
       "      <th>0</th>\n",
       "      <td>1871-01-01</td>\n",
       "      <td>4,44</td>\n",
       "      <td>0,26</td>\n",
       "      <td>0,40</td>\n",
       "      <td>12,46</td>\n",
       "      <td>5,32</td>\n",
       "      <td>91,37</td>\n",
       "      <td>5,35</td>\n",
       "      <td>8,23</td>\n",
       "    </tr>\n",
       "    <tr>\n",
       "      <th>1</th>\n",
       "      <td>1871-02-01</td>\n",
       "      <td>4,50</td>\n",
       "      <td>0,26</td>\n",
       "      <td>0,40</td>\n",
       "      <td>12,84</td>\n",
       "      <td>5,32</td>\n",
       "      <td>89,86</td>\n",
       "      <td>5,19</td>\n",
       "      <td>7,99</td>\n",
       "    </tr>\n",
       "    <tr>\n",
       "      <th>2</th>\n",
       "      <td>1871-03-01</td>\n",
       "      <td>4,61</td>\n",
       "      <td>0,26</td>\n",
       "      <td>0,40</td>\n",
       "      <td>13,03</td>\n",
       "      <td>5,33</td>\n",
       "      <td>90,71</td>\n",
       "      <td>5,12</td>\n",
       "      <td>7,87</td>\n",
       "    </tr>\n",
       "    <tr>\n",
       "      <th>3</th>\n",
       "      <td>1871-04-01</td>\n",
       "      <td>4,74</td>\n",
       "      <td>0,26</td>\n",
       "      <td>0,40</td>\n",
       "      <td>12,56</td>\n",
       "      <td>5,33</td>\n",
       "      <td>96,81</td>\n",
       "      <td>5,31</td>\n",
       "      <td>8,17</td>\n",
       "    </tr>\n",
       "    <tr>\n",
       "      <th>4</th>\n",
       "      <td>1871-05-01</td>\n",
       "      <td>4,86</td>\n",
       "      <td>0,26</td>\n",
       "      <td>0,40</td>\n",
       "      <td>12,27</td>\n",
       "      <td>5,33</td>\n",
       "      <td>101,57</td>\n",
       "      <td>5,43</td>\n",
       "      <td>8,36</td>\n",
       "    </tr>\n",
       "    <tr>\n",
       "      <th>5</th>\n",
       "      <td>1871-06-01</td>\n",
       "      <td>4,82</td>\n",
       "      <td>0,26</td>\n",
       "      <td>0,40</td>\n",
       "      <td>12,08</td>\n",
       "      <td>5,34</td>\n",
       "      <td>102,32</td>\n",
       "      <td>5,52</td>\n",
       "      <td>8,49</td>\n",
       "    </tr>\n",
       "    <tr>\n",
       "      <th>6</th>\n",
       "      <td>1871-07-01</td>\n",
       "      <td>4,73</td>\n",
       "      <td>0,26</td>\n",
       "      <td>0,40</td>\n",
       "      <td>12,08</td>\n",
       "      <td>5,34</td>\n",
       "      <td>100,41</td>\n",
       "      <td>5,52</td>\n",
       "      <td>8,49</td>\n",
       "    </tr>\n",
       "    <tr>\n",
       "      <th>7</th>\n",
       "      <td>1871-08-01</td>\n",
       "      <td>4,79</td>\n",
       "      <td>0,26</td>\n",
       "      <td>0,40</td>\n",
       "      <td>11,89</td>\n",
       "      <td>5,34</td>\n",
       "      <td>103,31</td>\n",
       "      <td>5,61</td>\n",
       "      <td>8,63</td>\n",
       "    </tr>\n",
       "    <tr>\n",
       "      <th>8</th>\n",
       "      <td>1871-09-01</td>\n",
       "      <td>4,84</td>\n",
       "      <td>0,26</td>\n",
       "      <td>0,40</td>\n",
       "      <td>12,18</td>\n",
       "      <td>5,35</td>\n",
       "      <td>101,94</td>\n",
       "      <td>5,48</td>\n",
       "      <td>8,42</td>\n",
       "    </tr>\n",
       "    <tr>\n",
       "      <th>9</th>\n",
       "      <td>1871-10-01</td>\n",
       "      <td>4,59</td>\n",
       "      <td>0,26</td>\n",
       "      <td>0,40</td>\n",
       "      <td>12,37</td>\n",
       "      <td>5,35</td>\n",
       "      <td>95,19</td>\n",
       "      <td>5,39</td>\n",
       "      <td>8,30</td>\n",
       "    </tr>\n",
       "    <tr>\n",
       "      <th>10</th>\n",
       "      <td>1871-11-01</td>\n",
       "      <td>4,64</td>\n",
       "      <td>0,26</td>\n",
       "      <td>0,40</td>\n",
       "      <td>12,37</td>\n",
       "      <td>5,35</td>\n",
       "      <td>96,22</td>\n",
       "      <td>5,39</td>\n",
       "      <td>8,30</td>\n",
       "    </tr>\n",
       "    <tr>\n",
       "      <th>11</th>\n",
       "      <td>1871-12-01</td>\n",
       "      <td>4,74</td>\n",
       "      <td>0,26</td>\n",
       "      <td>0,40</td>\n",
       "      <td>12,65</td>\n",
       "      <td>5,36</td>\n",
       "      <td>96,08</td>\n",
       "      <td>5,27</td>\n",
       "      <td>8,11</td>\n",
       "    </tr>\n",
       "    <tr>\n",
       "      <th>12</th>\n",
       "      <td>1872-01-01</td>\n",
       "      <td>4,86</td>\n",
       "      <td>0,26</td>\n",
       "      <td>0,40</td>\n",
       "      <td>12,65</td>\n",
       "      <td>5,36</td>\n",
       "      <td>98,51</td>\n",
       "      <td>5,34</td>\n",
       "      <td>8,16</td>\n",
       "    </tr>\n",
       "    <tr>\n",
       "      <th>13</th>\n",
       "      <td>1872-02-01</td>\n",
       "      <td>4,88</td>\n",
       "      <td>0,27</td>\n",
       "      <td>0,41</td>\n",
       "      <td>12,65</td>\n",
       "      <td>5,38</td>\n",
       "      <td>98,92</td>\n",
       "      <td>5,41</td>\n",
       "      <td>8,21</td>\n",
       "    </tr>\n",
       "    <tr>\n",
       "      <th>14</th>\n",
       "      <td>1872-03-01</td>\n",
       "      <td>5,04</td>\n",
       "      <td>0,27</td>\n",
       "      <td>0,41</td>\n",
       "      <td>12,84</td>\n",
       "      <td>5,40</td>\n",
       "      <td>100,65</td>\n",
       "      <td>5,39</td>\n",
       "      <td>8,14</td>\n",
       "    </tr>\n",
       "    <tr>\n",
       "      <th>15</th>\n",
       "      <td>1872-04-01</td>\n",
       "      <td>5,18</td>\n",
       "      <td>0,27</td>\n",
       "      <td>0,41</td>\n",
       "      <td>13,13</td>\n",
       "      <td>5,42</td>\n",
       "      <td>101,19</td>\n",
       "      <td>5,34</td>\n",
       "      <td>8,01</td>\n",
       "    </tr>\n",
       "    <tr>\n",
       "      <th>16</th>\n",
       "      <td>1872-05-01</td>\n",
       "      <td>5,18</td>\n",
       "      <td>0,28</td>\n",
       "      <td>0,41</td>\n",
       "      <td>13,13</td>\n",
       "      <td>5,43</td>\n",
       "      <td>101,19</td>\n",
       "      <td>5,41</td>\n",
       "      <td>8,06</td>\n",
       "    </tr>\n",
       "    <tr>\n",
       "      <th>17</th>\n",
       "      <td>1872-06-01</td>\n",
       "      <td>5,13</td>\n",
       "      <td>0,28</td>\n",
       "      <td>0,42</td>\n",
       "      <td>13,03</td>\n",
       "      <td>5,45</td>\n",
       "      <td>100,95</td>\n",
       "      <td>5,51</td>\n",
       "      <td>8,17</td>\n",
       "    </tr>\n",
       "    <tr>\n",
       "      <th>18</th>\n",
       "      <td>1872-07-01</td>\n",
       "      <td>5,10</td>\n",
       "      <td>0,28</td>\n",
       "      <td>0,42</td>\n",
       "      <td>12,84</td>\n",
       "      <td>5,47</td>\n",
       "      <td>101,84</td>\n",
       "      <td>5,66</td>\n",
       "      <td>8,34</td>\n",
       "    </tr>\n",
       "    <tr>\n",
       "      <th>19</th>\n",
       "      <td>1872-08-01</td>\n",
       "      <td>5,04</td>\n",
       "      <td>0,29</td>\n",
       "      <td>0,42</td>\n",
       "      <td>12,94</td>\n",
       "      <td>5,49</td>\n",
       "      <td>99,91</td>\n",
       "      <td>5,68</td>\n",
       "      <td>8,33</td>\n",
       "    </tr>\n",
       "    <tr>\n",
       "      <th>20</th>\n",
       "      <td>1872-09-01</td>\n",
       "      <td>4,95</td>\n",
       "      <td>0,29</td>\n",
       "      <td>0,42</td>\n",
       "      <td>13,03</td>\n",
       "      <td>5,51</td>\n",
       "      <td>97,41</td>\n",
       "      <td>5,71</td>\n",
       "      <td>8,31</td>\n",
       "    </tr>\n",
       "    <tr>\n",
       "      <th>21</th>\n",
       "      <td>1872-10-01</td>\n",
       "      <td>4,97</td>\n",
       "      <td>0,29</td>\n",
       "      <td>0,43</td>\n",
       "      <td>12,75</td>\n",
       "      <td>5,53</td>\n",
       "      <td>99,99</td>\n",
       "      <td>5,90</td>\n",
       "      <td>8,55</td>\n",
       "    </tr>\n",
       "    <tr>\n",
       "      <th>22</th>\n",
       "      <td>1872-11-01</td>\n",
       "      <td>4,95</td>\n",
       "      <td>0,30</td>\n",
       "      <td>0,43</td>\n",
       "      <td>13,13</td>\n",
       "      <td>5,54</td>\n",
       "      <td>96,70</td>\n",
       "      <td>5,80</td>\n",
       "      <td>8,35</td>\n",
       "    </tr>\n",
       "    <tr>\n",
       "      <th>23</th>\n",
       "      <td>1872-12-01</td>\n",
       "      <td>5,07</td>\n",
       "      <td>0,30</td>\n",
       "      <td>0,43</td>\n",
       "      <td>12,94</td>\n",
       "      <td>5,56</td>\n",
       "      <td>100,50</td>\n",
       "      <td>5,95</td>\n",
       "      <td>8,52</td>\n",
       "    </tr>\n",
       "    <tr>\n",
       "      <th>24</th>\n",
       "      <td>1873-01-01</td>\n",
       "      <td>5,11</td>\n",
       "      <td>0,30</td>\n",
       "      <td>0,43</td>\n",
       "      <td>12,94</td>\n",
       "      <td>5,58</td>\n",
       "      <td>101,29</td>\n",
       "      <td>6,00</td>\n",
       "      <td>8,57</td>\n",
       "    </tr>\n",
       "  </tbody>\n",
       "</table>\n",
       "</div>"
      ],
      "text/plain": [
       "         Date     P     D     E    CPI  GS10   Price Dividend Earnings\n",
       "0  1871-01-01  4,44  0,26  0,40  12,46  5,32   91,37     5,35     8,23\n",
       "1  1871-02-01  4,50  0,26  0,40  12,84  5,32   89,86     5,19     7,99\n",
       "2  1871-03-01  4,61  0,26  0,40  13,03  5,33   90,71     5,12     7,87\n",
       "3  1871-04-01  4,74  0,26  0,40  12,56  5,33   96,81     5,31     8,17\n",
       "4  1871-05-01  4,86  0,26  0,40  12,27  5,33  101,57     5,43     8,36\n",
       "5  1871-06-01  4,82  0,26  0,40  12,08  5,34  102,32     5,52     8,49\n",
       "6  1871-07-01  4,73  0,26  0,40  12,08  5,34  100,41     5,52     8,49\n",
       "7  1871-08-01  4,79  0,26  0,40  11,89  5,34  103,31     5,61     8,63\n",
       "8  1871-09-01  4,84  0,26  0,40  12,18  5,35  101,94     5,48     8,42\n",
       "9  1871-10-01  4,59  0,26  0,40  12,37  5,35   95,19     5,39     8,30\n",
       "10 1871-11-01  4,64  0,26  0,40  12,37  5,35   96,22     5,39     8,30\n",
       "11 1871-12-01  4,74  0,26  0,40  12,65  5,36   96,08     5,27     8,11\n",
       "12 1872-01-01  4,86  0,26  0,40  12,65  5,36   98,51     5,34     8,16\n",
       "13 1872-02-01  4,88  0,27  0,41  12,65  5,38   98,92     5,41     8,21\n",
       "14 1872-03-01  5,04  0,27  0,41  12,84  5,40  100,65     5,39     8,14\n",
       "15 1872-04-01  5,18  0,27  0,41  13,13  5,42  101,19     5,34     8,01\n",
       "16 1872-05-01  5,18  0,28  0,41  13,13  5,43  101,19     5,41     8,06\n",
       "17 1872-06-01  5,13  0,28  0,42  13,03  5,45  100,95     5,51     8,17\n",
       "18 1872-07-01  5,10  0,28  0,42  12,84  5,47  101,84     5,66     8,34\n",
       "19 1872-08-01  5,04  0,29  0,42  12,94  5,49   99,91     5,68     8,33\n",
       "20 1872-09-01  4,95  0,29  0,42  13,03  5,51   97,41     5,71     8,31\n",
       "21 1872-10-01  4,97  0,29  0,43  12,75  5,53   99,99     5,90     8,55\n",
       "22 1872-11-01  4,95  0,30  0,43  13,13  5,54   96,70     5,80     8,35\n",
       "23 1872-12-01  5,07  0,30  0,43  12,94  5,56  100,50     5,95     8,52\n",
       "24 1873-01-01  5,11  0,30  0,43  12,94  5,58  101,29     6,00     8,57"
      ]
     },
     "execution_count": 8,
     "metadata": {},
     "output_type": "execute_result"
    }
   ],
   "source": [
    "df.head(25)"
   ]
  },
  {
   "cell_type": "code",
   "execution_count": 9,
   "metadata": {},
   "outputs": [],
   "source": [
    "df = df.set_index('Date')"
   ]
  },
  {
   "cell_type": "code",
   "execution_count": 10,
   "metadata": {},
   "outputs": [
    {
     "data": {
      "text/plain": [
       "<class 'str'>    1783\n",
       "Name: P, dtype: int64"
      ]
     },
     "execution_count": 10,
     "metadata": {},
     "output_type": "execute_result"
    }
   ],
   "source": [
    "# those are dtype (str) type of objects and need to be converted\n",
    "df['P'].apply(type).value_counts()"
   ]
  },
  {
   "cell_type": "code",
   "execution_count": 11,
   "metadata": {},
   "outputs": [],
   "source": [
    "# defining auxiliary cleaning function\n",
    "def clean_column(x):\n",
    "    \"\"\" the values are str objects containing ',' those have been replaced with '.'\n",
    "    \"\"\"\n",
    "    if isinstance(x, str):\n",
    "        return(x.replace(',', '.'))\n",
    "    return(x)"
   ]
  },
  {
   "cell_type": "code",
   "execution_count": 12,
   "metadata": {},
   "outputs": [
    {
     "data": {
      "text/plain": [
       "Index(['P', 'D', 'E', 'CPI', 'GS10', 'Price', 'Dividend', 'Earnings'], dtype='object')"
      ]
     },
     "execution_count": 12,
     "metadata": {},
     "output_type": "execute_result"
    }
   ],
   "source": [
    "#df['P'] = df['P'].apply(clean_column).astype('float')\n",
    "cols = df.columns[df.dtypes.eq('object')]\n",
    "cols"
   ]
  },
  {
   "cell_type": "code",
   "execution_count": 13,
   "metadata": {},
   "outputs": [],
   "source": [
    "#selecting all 'object' type of columns in one shot\n",
    "# there might be even shorter way - skipping for loop - investigate later if time permits\n",
    "cols = df.columns[df.dtypes.eq('object')]\n",
    "\n",
    "for column in cols:\n",
    "    df[column] = df[column].apply(clean_column).astype('float')"
   ]
  },
  {
   "cell_type": "code",
   "execution_count": 14,
   "metadata": {},
   "outputs": [
    {
     "data": {
      "text/html": [
       "<div>\n",
       "<style scoped>\n",
       "    .dataframe tbody tr th:only-of-type {\n",
       "        vertical-align: middle;\n",
       "    }\n",
       "\n",
       "    .dataframe tbody tr th {\n",
       "        vertical-align: top;\n",
       "    }\n",
       "\n",
       "    .dataframe thead th {\n",
       "        text-align: right;\n",
       "    }\n",
       "</style>\n",
       "<table border=\"1\" class=\"dataframe\">\n",
       "  <thead>\n",
       "    <tr style=\"text-align: right;\">\n",
       "      <th></th>\n",
       "      <th>P</th>\n",
       "      <th>D</th>\n",
       "      <th>E</th>\n",
       "      <th>CPI</th>\n",
       "      <th>GS10</th>\n",
       "      <th>Price</th>\n",
       "      <th>Dividend</th>\n",
       "      <th>Earnings</th>\n",
       "    </tr>\n",
       "    <tr>\n",
       "      <th>Date</th>\n",
       "      <th></th>\n",
       "      <th></th>\n",
       "      <th></th>\n",
       "      <th></th>\n",
       "      <th></th>\n",
       "      <th></th>\n",
       "      <th></th>\n",
       "      <th></th>\n",
       "    </tr>\n",
       "  </thead>\n",
       "  <tbody>\n",
       "    <tr>\n",
       "      <th>1871-01-01</th>\n",
       "      <td>4.44</td>\n",
       "      <td>0.26</td>\n",
       "      <td>0.4</td>\n",
       "      <td>12.46</td>\n",
       "      <td>5.32</td>\n",
       "      <td>91.37</td>\n",
       "      <td>5.35</td>\n",
       "      <td>8.23</td>\n",
       "    </tr>\n",
       "    <tr>\n",
       "      <th>1871-02-01</th>\n",
       "      <td>4.50</td>\n",
       "      <td>0.26</td>\n",
       "      <td>0.4</td>\n",
       "      <td>12.84</td>\n",
       "      <td>5.32</td>\n",
       "      <td>89.86</td>\n",
       "      <td>5.19</td>\n",
       "      <td>7.99</td>\n",
       "    </tr>\n",
       "    <tr>\n",
       "      <th>1871-03-01</th>\n",
       "      <td>4.61</td>\n",
       "      <td>0.26</td>\n",
       "      <td>0.4</td>\n",
       "      <td>13.03</td>\n",
       "      <td>5.33</td>\n",
       "      <td>90.71</td>\n",
       "      <td>5.12</td>\n",
       "      <td>7.87</td>\n",
       "    </tr>\n",
       "    <tr>\n",
       "      <th>1871-04-01</th>\n",
       "      <td>4.74</td>\n",
       "      <td>0.26</td>\n",
       "      <td>0.4</td>\n",
       "      <td>12.56</td>\n",
       "      <td>5.33</td>\n",
       "      <td>96.81</td>\n",
       "      <td>5.31</td>\n",
       "      <td>8.17</td>\n",
       "    </tr>\n",
       "    <tr>\n",
       "      <th>1871-05-01</th>\n",
       "      <td>4.86</td>\n",
       "      <td>0.26</td>\n",
       "      <td>0.4</td>\n",
       "      <td>12.27</td>\n",
       "      <td>5.33</td>\n",
       "      <td>101.57</td>\n",
       "      <td>5.43</td>\n",
       "      <td>8.36</td>\n",
       "    </tr>\n",
       "    <tr>\n",
       "      <th>1871-06-01</th>\n",
       "      <td>4.82</td>\n",
       "      <td>0.26</td>\n",
       "      <td>0.4</td>\n",
       "      <td>12.08</td>\n",
       "      <td>5.34</td>\n",
       "      <td>102.32</td>\n",
       "      <td>5.52</td>\n",
       "      <td>8.49</td>\n",
       "    </tr>\n",
       "    <tr>\n",
       "      <th>1871-07-01</th>\n",
       "      <td>4.73</td>\n",
       "      <td>0.26</td>\n",
       "      <td>0.4</td>\n",
       "      <td>12.08</td>\n",
       "      <td>5.34</td>\n",
       "      <td>100.41</td>\n",
       "      <td>5.52</td>\n",
       "      <td>8.49</td>\n",
       "    </tr>\n",
       "    <tr>\n",
       "      <th>1871-08-01</th>\n",
       "      <td>4.79</td>\n",
       "      <td>0.26</td>\n",
       "      <td>0.4</td>\n",
       "      <td>11.89</td>\n",
       "      <td>5.34</td>\n",
       "      <td>103.31</td>\n",
       "      <td>5.61</td>\n",
       "      <td>8.63</td>\n",
       "    </tr>\n",
       "    <tr>\n",
       "      <th>1871-09-01</th>\n",
       "      <td>4.84</td>\n",
       "      <td>0.26</td>\n",
       "      <td>0.4</td>\n",
       "      <td>12.18</td>\n",
       "      <td>5.35</td>\n",
       "      <td>101.94</td>\n",
       "      <td>5.48</td>\n",
       "      <td>8.42</td>\n",
       "    </tr>\n",
       "    <tr>\n",
       "      <th>1871-10-01</th>\n",
       "      <td>4.59</td>\n",
       "      <td>0.26</td>\n",
       "      <td>0.4</td>\n",
       "      <td>12.37</td>\n",
       "      <td>5.35</td>\n",
       "      <td>95.19</td>\n",
       "      <td>5.39</td>\n",
       "      <td>8.30</td>\n",
       "    </tr>\n",
       "  </tbody>\n",
       "</table>\n",
       "</div>"
      ],
      "text/plain": [
       "               P     D    E    CPI  GS10   Price  Dividend  Earnings\n",
       "Date                                                                \n",
       "1871-01-01  4.44  0.26  0.4  12.46  5.32   91.37      5.35      8.23\n",
       "1871-02-01  4.50  0.26  0.4  12.84  5.32   89.86      5.19      7.99\n",
       "1871-03-01  4.61  0.26  0.4  13.03  5.33   90.71      5.12      7.87\n",
       "1871-04-01  4.74  0.26  0.4  12.56  5.33   96.81      5.31      8.17\n",
       "1871-05-01  4.86  0.26  0.4  12.27  5.33  101.57      5.43      8.36\n",
       "1871-06-01  4.82  0.26  0.4  12.08  5.34  102.32      5.52      8.49\n",
       "1871-07-01  4.73  0.26  0.4  12.08  5.34  100.41      5.52      8.49\n",
       "1871-08-01  4.79  0.26  0.4  11.89  5.34  103.31      5.61      8.63\n",
       "1871-09-01  4.84  0.26  0.4  12.18  5.35  101.94      5.48      8.42\n",
       "1871-10-01  4.59  0.26  0.4  12.37  5.35   95.19      5.39      8.30"
      ]
     },
     "execution_count": 14,
     "metadata": {},
     "output_type": "execute_result"
    }
   ],
   "source": [
    "df.head(10)"
   ]
  },
  {
   "cell_type": "code",
   "execution_count": 15,
   "metadata": {},
   "outputs": [],
   "source": [
    "#df.info()"
   ]
  },
  {
   "cell_type": "code",
   "execution_count": 16,
   "metadata": {},
   "outputs": [],
   "source": [
    "# save to file to have a copy\n",
    "df.to_csv('fotmatted_series.csv')"
   ]
  },
  {
   "cell_type": "code",
   "execution_count": null,
   "metadata": {},
   "outputs": [],
   "source": []
  },
  {
   "cell_type": "markdown",
   "metadata": {},
   "source": [
    "### Why log returns and moving averages are used: \n",
    "we should normalize tha data and draw autocorrelation log returns and lagged log returns and lagged volatilities while looking up for patterns.\n",
    "Log returns are considered a standard transforamtional practice.\n",
    "Rest of features are creating new smoothed features. We'd plot some of them, draw inferences from correlation matrix and use them in our ML algorithms below (e.g. moving average can be used as a source of new information when modeling a time series forecast as a supervised learning problem)."
   ]
  },
  {
   "cell_type": "code",
   "execution_count": 17,
   "metadata": {},
   "outputs": [],
   "source": [
    "\n",
    "df['pct_change'] = df['P'].pct_change().fillna(method='bfill')\n",
    "df['log_ret_1_mth'] = np.log(df['P'] / df['P'].shift(1)).fillna(method='bfill')\n",
    "\n",
    "df['Log_Ret_2_mth']=pd.Series(df['log_ret_1_mth']).rolling(window=2).sum()\n",
    "df['Log_Ret_3_mth']=pd.Series(df['log_ret_1_mth']).rolling(window=3).sum()\n",
    "df['Log_Ret_4_mth']=pd.Series(df['log_ret_1_mth']).rolling(window=4).sum()\n",
    "df['Log_Ret_8_mth']=pd.Series(df['log_ret_1_mth']).rolling(window=8).sum()\n",
    "df['Log_Ret_12_mth']=pd.Series(df['log_ret_1_mth']).rolling(window=12).sum()\n",
    "df['Log_Ret_48_mth']=pd.Series(df['log_ret_1_mth']).rolling(window=48).sum()\n"
   ]
  },
  {
   "cell_type": "code",
   "execution_count": 18,
   "metadata": {},
   "outputs": [],
   "source": [
    "df['volat_2_mth']=pd.Series(df['log_ret_1_mth']).rolling(window=2).std()*np.sqrt(2)\n",
    "df['volat_3_mth']=pd.Series(df['log_ret_1_mth']).rolling(window=3).std()*np.sqrt(3)\n",
    "df['volat_4_mth']=pd.Series(df['log_ret_1_mth']).rolling(window=4).std()*np.sqrt(4)\n",
    "df['volat_8_mth']=pd.Series(df['log_ret_1_mth']).rolling(window=8).std()*np.sqrt(8)\n",
    "df['volat_12_mth']=pd.Series(df['log_ret_1_mth']).rolling(window=12).std()*np.sqrt(12)\n",
    "df['volat_48_mth']=pd.Series(df['log_ret_1_mth']).rolling(window=48).std()*np.sqrt(48)\n"
   ]
  },
  {
   "cell_type": "code",
   "execution_count": null,
   "metadata": {},
   "outputs": [],
   "source": [
    "\n"
   ]
  },
  {
   "cell_type": "markdown",
   "metadata": {},
   "source": [
    "### CAPE ratio engineering\n",
    "Also, this dataset was created as a part of larger study by Robert J. Shiller, [2]  who invented a precitvive index called CAPE (Cyclically adjusted price-to-earnings ratio)  which is said have a good predictive characteristics. \n",
    "Let's try to engineer it from the data we have"
   ]
  },
  {
   "cell_type": "markdown",
   "metadata": {},
   "source": [
    "We'll also construct 12 months and 10 year moving average features along the way. Those can be used as a source of new information when modeling a time series forecast as a supervised learning problem.\n"
   ]
  },
  {
   "cell_type": "code",
   "execution_count": 19,
   "metadata": {},
   "outputs": [],
   "source": [
    "#RECONSIDER - we have those already - \n",
    "# to catch for so-called trends (moving averages) let's engineer rolling mean \n",
    "df['rolling_Earnings_mean12'] = df['Earnings'].rolling(window=12).mean()\n",
    "df['rolling_Earnings_mean120'] = df['Earnings'].rolling(window=120).mean()\n",
    "df['CAPE10'] = (df['Price']/df['rolling_Earnings_mean120'])"
   ]
  },
  {
   "cell_type": "code",
   "execution_count": 20,
   "metadata": {},
   "outputs": [],
   "source": [
    "#df['2008']"
   ]
  },
  {
   "cell_type": "markdown",
   "metadata": {},
   "source": [
    "General testing of results in 4-5 random years (1882, 1929, 2008-2009) revealed that the calculation is quite matching the original calculations in [2]. They seemed to base calculations on yearly data though, while we have monthly data. I decided to consider results acceptable to some degree, and not to invest time in finding the exact conversion techniques"
   ]
  },
  {
   "cell_type": "markdown",
   "metadata": {},
   "source": [
    "We will create a direction of change feature. This will be used as out Y variable in coming classification algorithms"
   ]
  },
  {
   "cell_type": "code",
   "execution_count": 21,
   "metadata": {},
   "outputs": [],
   "source": [
    "# Label data: Up (Down) if the the 1 month logarithmic return increased (decreased)\n",
    "# shift index axis by a period in negative direction \n",
    " \n",
    "df['dir']=np.where(df['log_ret_1_mth'] > 0, 1, 0)"
   ]
  },
  {
   "cell_type": "code",
   "execution_count": 22,
   "metadata": {},
   "outputs": [
    {
     "name": "stdout",
     "output_type": "stream",
     "text": [
      "Rows, Columns:\n",
      "(1783, 26)\n",
      "Columns:\n",
      "Index(['P', 'D', 'E', 'CPI', 'GS10', 'Price', 'Dividend', 'Earnings',\n",
      "       'pct_change', 'log_ret_1_mth', 'Log_Ret_2_mth', 'Log_Ret_3_mth',\n",
      "       'Log_Ret_4_mth', 'Log_Ret_8_mth', 'Log_Ret_12_mth', 'Log_Ret_48_mth',\n",
      "       'volat_2_mth', 'volat_3_mth', 'volat_4_mth', 'volat_8_mth',\n",
      "       'volat_12_mth', 'volat_48_mth', 'rolling_Earnings_mean12',\n",
      "       'rolling_Earnings_mean120', 'CAPE10', 'dir'],\n",
      "      dtype='object')\n"
     ]
    }
   ],
   "source": [
    "# list rows and columns\n",
    "print(\"Rows, Columns:\")\n",
    "print(df.shape)\n",
    "\n",
    "# list columns\n",
    "print(\"Columns:\")\n",
    "print(df.columns)"
   ]
  },
  {
   "cell_type": "code",
   "execution_count": 23,
   "metadata": {},
   "outputs": [],
   "source": [
    "# backfilling with same values, CAPE, volatilities, rolling earning means \n",
    "# should not impact much since those are NaN's primarily in 1870's\n",
    "df = df.iloc[:].fillna(method='bfill')"
   ]
  },
  {
   "cell_type": "code",
   "execution_count": 24,
   "metadata": {},
   "outputs": [
    {
     "name": "stdout",
     "output_type": "stream",
     "text": [
      "<class 'pandas.core.frame.DataFrame'>\n",
      "DatetimeIndex: 1783 entries, 1871-01-01 to 2019-07-01\n",
      "Data columns (total 26 columns):\n",
      " #   Column                    Non-Null Count  Dtype  \n",
      "---  ------                    --------------  -----  \n",
      " 0   P                         1783 non-null   float64\n",
      " 1   D                         1783 non-null   float64\n",
      " 2   E                         1783 non-null   float64\n",
      " 3   CPI                       1783 non-null   float64\n",
      " 4   GS10                      1783 non-null   float64\n",
      " 5   Price                     1783 non-null   float64\n",
      " 6   Dividend                  1783 non-null   float64\n",
      " 7   Earnings                  1783 non-null   float64\n",
      " 8   pct_change                1783 non-null   float64\n",
      " 9   log_ret_1_mth             1783 non-null   float64\n",
      " 10  Log_Ret_2_mth             1783 non-null   float64\n",
      " 11  Log_Ret_3_mth             1783 non-null   float64\n",
      " 12  Log_Ret_4_mth             1783 non-null   float64\n",
      " 13  Log_Ret_8_mth             1783 non-null   float64\n",
      " 14  Log_Ret_12_mth            1783 non-null   float64\n",
      " 15  Log_Ret_48_mth            1783 non-null   float64\n",
      " 16  volat_2_mth               1783 non-null   float64\n",
      " 17  volat_3_mth               1783 non-null   float64\n",
      " 18  volat_4_mth               1783 non-null   float64\n",
      " 19  volat_8_mth               1783 non-null   float64\n",
      " 20  volat_12_mth              1783 non-null   float64\n",
      " 21  volat_48_mth              1783 non-null   float64\n",
      " 22  rolling_Earnings_mean12   1783 non-null   float64\n",
      " 23  rolling_Earnings_mean120  1783 non-null   float64\n",
      " 24  CAPE10                    1783 non-null   float64\n",
      " 25  dir                       1783 non-null   int32  \n",
      "dtypes: float64(25), int32(1)\n",
      "memory usage: 369.1 KB\n"
     ]
    }
   ],
   "source": [
    "# making sure we don't have missing values\n",
    "df.info()"
   ]
  },
  {
   "cell_type": "markdown",
   "metadata": {},
   "source": [
    "#### Few ML models"
   ]
  },
  {
   "cell_type": "code",
   "execution_count": 25,
   "metadata": {},
   "outputs": [],
   "source": [
    "# sklearn\n",
    "from sklearn.pipeline import Pipeline\n",
    "from sklearn.preprocessing import StandardScaler\n",
    "from sklearn.preprocessing import MinMaxScaler\n",
    "from sklearn.model_selection import TimeSeriesSplit\n",
    "from sklearn.model_selection import RandomizedSearchCV\n",
    "from sklearn.model_selection import GridSearchCV\n",
    "from sklearn import metrics\n",
    "from sklearn.metrics import make_scorer\n",
    "from sklearn.metrics import accuracy_score\n",
    "from sklearn.model_selection import train_test_split\n",
    "from sklearn import linear_model"
   ]
  },
  {
   "cell_type": "code",
   "execution_count": 26,
   "metadata": {},
   "outputs": [],
   "source": [
    "\n",
    "# dropping justified by high intercorrelation of Price and Aggregate Price, \n",
    "#Earnings vs Aggregate Earnings, etc. from the corr. matrix plot in 1st notebook\n",
    "df=df.drop(['Price','Dividend','Earnings'], axis=1)"
   ]
  },
  {
   "cell_type": "code",
   "execution_count": 27,
   "metadata": {},
   "outputs": [
    {
     "name": "stdout",
     "output_type": "stream",
     "text": [
      "<class 'pandas.core.frame.DataFrame'>\n",
      "DatetimeIndex: 1783 entries, 1871-01-01 to 2019-07-01\n",
      "Data columns (total 23 columns):\n",
      " #   Column                    Non-Null Count  Dtype  \n",
      "---  ------                    --------------  -----  \n",
      " 0   P                         1783 non-null   float64\n",
      " 1   D                         1783 non-null   float64\n",
      " 2   E                         1783 non-null   float64\n",
      " 3   CPI                       1783 non-null   float64\n",
      " 4   GS10                      1783 non-null   float64\n",
      " 5   pct_change                1783 non-null   float64\n",
      " 6   log_ret_1_mth             1783 non-null   float64\n",
      " 7   Log_Ret_2_mth             1783 non-null   float64\n",
      " 8   Log_Ret_3_mth             1783 non-null   float64\n",
      " 9   Log_Ret_4_mth             1783 non-null   float64\n",
      " 10  Log_Ret_8_mth             1783 non-null   float64\n",
      " 11  Log_Ret_12_mth            1783 non-null   float64\n",
      " 12  Log_Ret_48_mth            1783 non-null   float64\n",
      " 13  volat_2_mth               1783 non-null   float64\n",
      " 14  volat_3_mth               1783 non-null   float64\n",
      " 15  volat_4_mth               1783 non-null   float64\n",
      " 16  volat_8_mth               1783 non-null   float64\n",
      " 17  volat_12_mth              1783 non-null   float64\n",
      " 18  volat_48_mth              1783 non-null   float64\n",
      " 19  rolling_Earnings_mean12   1783 non-null   float64\n",
      " 20  rolling_Earnings_mean120  1783 non-null   float64\n",
      " 21  CAPE10                    1783 non-null   float64\n",
      " 22  dir                       1783 non-null   int32  \n",
      "dtypes: float64(22), int32(1)\n",
      "memory usage: 327.3 KB\n"
     ]
    }
   ],
   "source": [
    "df.info()"
   ]
  },
  {
   "cell_type": "code",
   "execution_count": 28,
   "metadata": {},
   "outputs": [],
   "source": [
    "# let's train test split; note: shuffling not allowed due to nature of fin. time series\n",
    "X_train_1, X_test_1, y_train_1, y_test_1=train_test_split(df.iloc[:,:22], df.iloc[:,22:], test_size=0.1 ,shuffle=False, stratify=None)\n",
    "# \n",
    "# LSTM trials - Input arrays should be shaped as (samples or batch, time_steps or look_back, num_features):\n",
    "#X_test_1_lstm=X_test_1.values.reshape(X_test_1.shape[0], 1, X_test_1.shape[1])\n",
    "fitting_scaler = StandardScaler()\n",
    "\n",
    "X_train_1_tr = X_train_1.copy()\n",
    "X_train_1_tr = fitting_scaler.fit_transform(X_train_1_tr)"
   ]
  },
  {
   "cell_type": "code",
   "execution_count": 29,
   "metadata": {},
   "outputs": [],
   "source": [
    "#y_test_1"
   ]
  },
  {
   "cell_type": "code",
   "execution_count": 30,
   "metadata": {},
   "outputs": [],
   "source": [
    "# method to implement k-fold validation for different classifiers\n",
    "def kfold_model_run(model, X, y, K=10):\n",
    "    kfold = KFold(n_splits=K)\n",
    "    kfold.get_n_splits(X)\n",
    "    accuracy = np.zeros(K)\n",
    "    np_idx = 0\n",
    "    for train_idx, test_idx in kfold.split(X):\n",
    "        X_train, X_test = X[train_idx], X[test_idx]\n",
    "        y_train, y_test = y.values[train_idx], y.values[test_idx]\n",
    "\n",
    "        model.fit(X_train, y_train)\n",
    "\n",
    "        predictions = model.predict(X_test)\n",
    "\n",
    "        ACC = accuracy_score(y_test, predictions)\n",
    "        accuracy[np_idx] = ACC*100\n",
    "        np_idx += 1\n",
    "\n",
    "        print (\"Fold {}: Accuracy: {}\".format(np_idx, round(ACC,3)))   \n",
    "\n",
    "    print (\"Average Score is: {}%({}%)\".format(round(np.mean(accuracy),3),round(np.std(accuracy),3)))\n",
    "    return model"
   ]
  },
  {
   "cell_type": "markdown",
   "metadata": {},
   "source": [
    "We'll run the _logistic regression_ model with all the features included as a __baseline__ model.  Running the logistic regression model with all the features included as a baseline model"
   ]
  },
  {
   "cell_type": "code",
   "execution_count": 31,
   "metadata": {},
   "outputs": [
    {
     "name": "stdout",
     "output_type": "stream",
     "text": [
      "Fold 1: Accuracy: 0.988\n",
      "Fold 2: Accuracy: 0.988\n",
      "Fold 3: Accuracy: 0.988\n",
      "Fold 4: Accuracy: 0.994\n",
      "Fold 5: Accuracy: 0.975\n",
      "Fold 6: Accuracy: 0.994\n",
      "Fold 7: Accuracy: 1.0\n",
      "Fold 8: Accuracy: 0.994\n",
      "Fold 9: Accuracy: 0.981\n",
      "Fold 10: Accuracy: 0.931\n",
      "Average Score is: 98.315%(1.856%)\n",
      "Time taken to run this model is 0.21132636070251465\n",
      "Total number of features are: 22\n"
     ]
    }
   ],
   "source": [
    "%%capture --no-stdout\n",
    "start_time = time.time()\n",
    "lg = LogisticRegression()\n",
    "kfold_model_run(lg, X_train_1_tr, y_train_1)\n",
    "elapsedtime = time.time() - start_time\n",
    "print('Time taken to run this model is {}'.format(elapsedtime))\n",
    "print('Total number of features are: {}'.format(X_train_1_tr.shape[1]))"
   ]
  },
  {
   "cell_type": "markdown",
   "metadata": {},
   "source": [
    "Let's perform some importance feature analysis"
   ]
  },
  {
   "cell_type": "code",
   "execution_count": null,
   "metadata": {},
   "outputs": [],
   "source": []
  },
  {
   "cell_type": "code",
   "execution_count": 32,
   "metadata": {},
   "outputs": [
    {
     "name": "stdout",
     "output_type": "stream",
     "text": [
      "Fold 1: Accuracy: 1.0\n",
      "Fold 2: Accuracy: 1.0\n",
      "Fold 3: Accuracy: 0.996\n",
      "Average Score is: 99.875%(0.177%)\n"
     ]
    }
   ],
   "source": [
    "%%capture --no-stdout\n",
    "# preraration to use XGBoost's important component analysis; \n",
    "\n",
    "\n",
    "g_boost = XGBClassifier()\n",
    "kfold_model_run(g_boost, X_train_1_tr, y_train_1, K=3)"
   ]
  },
  {
   "cell_type": "code",
   "execution_count": 33,
   "metadata": {},
   "outputs": [
    {
     "data": {
      "image/png": "[encoded data removed]",
      "text/plain": [
       "<Figure size 2160x1080 with 1 Axes>"
      ]
     },
     "metadata": {},
     "output_type": "display_data"
    }
   ],
   "source": [
    "# building the importance plot\n",
    "ax = plot_importance(g_boost, color='red')\n",
    "fig = ax.figure\n",
    "fig.set_size_inches(30, 15)\n",
    "plt.show()\n"
   ]
  },
  {
   "cell_type": "code",
   "execution_count": 34,
   "metadata": {},
   "outputs": [],
   "source": [
    "feature_names = X_train_1.columns\n"
   ]
  },
  {
   "cell_type": "code",
   "execution_count": 35,
   "metadata": {},
   "outputs": [],
   "source": [
    "\n",
    "feature = g_boost.feature_importances_\n",
    "Dic = dict(zip(feature_names,feature))\n"
   ]
  },
  {
   "cell_type": "code",
   "execution_count": 36,
   "metadata": {},
   "outputs": [
    {
     "name": "stdout",
     "output_type": "stream",
     "text": [
      "Top features sorted in order are:\n",
      "pct_change\n"
     ]
    }
   ],
   "source": [
    "print('Top features sorted in order are:')\n",
    "\n",
    "print(feature_names[5])"
   ]
  },
  {
   "cell_type": "markdown",
   "metadata": {},
   "source": [
    "Interestingly, the only important column that is claimed to provide most prediction accuracy is considered the Percentage Change. This is inline with the fact that many traders prefer percentage change when calculating rolling averages, [6]. Let's perform chi-square test to test variables' independence hypothesis"
   ]
  },
  {
   "cell_type": "code",
   "execution_count": 37,
   "metadata": {},
   "outputs": [
    {
     "data": {
      "text/plain": [
       "(array([0.44167204, 1.44028383, 1.16359532, 1.82963604, 0.01045091,\n",
       "        6.37187423, 5.94818359, 5.72357805, 3.76791223, 3.41097276,\n",
       "        3.00852125, 2.0627969 , 1.21128625, 0.43265664, 0.36732416,\n",
       "        0.30281962, 0.27843154, 0.07580658, 0.01269798, 0.93674661,\n",
       "        1.33445505, 0.31154151]),\n",
       " array([0.50631653, 0.23009342, 0.28072115, 0.17617054, 0.91857437,\n",
       "        0.01159431, 0.01473246, 0.01673859, 0.05224481, 0.06476426,\n",
       "        0.08282782, 0.15093292, 0.27107753, 0.51068825, 0.54446645,\n",
       "        0.58212015, 0.59773109, 0.78306276, 0.91028004, 0.33311594,\n",
       "        0.2480142 , 0.57673579]))"
      ]
     },
     "execution_count": 37,
     "metadata": {},
     "output_type": "execute_result"
    }
   ],
   "source": [
    "from sklearn.feature_selection import chi2\n",
    "fitting_scaler = MinMaxScaler()\n",
    "X_train_1_tr1 = X_train_1.copy()\n",
    "X_train_1_tr1 = fitting_scaler.fit_transform(X_train_1_tr1)\n",
    "chi_scores = chi2(X_train_1_tr1,y_train_1)\n",
    "chi_scores\n"
   ]
  },
  {
   "cell_type": "code",
   "execution_count": 38,
   "metadata": {},
   "outputs": [
    {
     "data": {
      "text/plain": [
       "<matplotlib.axes._subplots.AxesSubplot at 0x1ca775a3dc8>"
      ]
     },
     "execution_count": 38,
     "metadata": {},
     "output_type": "execute_result"
    },
    {
     "data": {
      "image/png": "[encoded data removed]",
      "text/plain": [
       "<Figure size 432x288 with 1 Axes>"
      ]
     },
     "metadata": {},
     "output_type": "display_data"
    }
   ],
   "source": [
    "p_values = pd.Series(chi_scores[1],index = X_train_1.columns)\n",
    "p_values.sort_values(ascending = False , inplace = True)\n",
    "\n",
    "p_values.plot.bar()"
   ]
  },
  {
   "cell_type": "markdown",
   "metadata": {},
   "source": [
    "Null Hypothesis (H0): The variables are independent.\n",
    "Alternative Hypothesis (H1): The variables are not independent.\n",
    "Here we have 21 category predictors and one category response (direction 'up' or 'down')\n",
    "Since 'GS10',etc. have highest the p-value, it says that these variables are independent of the response and better not be considered for model training. Before dropring some of them it's better to consider some hyperparameter tuning. The importance of column 'pct_change' is justified again. But the CAPE ratio does not seem to have strong predictive power. Let's run the baseline model on a reduced set of features"
   ]
  },
  {
   "cell_type": "code",
   "execution_count": 39,
   "metadata": {},
   "outputs": [
    {
     "name": "stdout",
     "output_type": "stream",
     "text": [
      "Selecting top 13 features\n",
      "Fold 1: Accuracy: 0.901\n",
      "Fold 2: Accuracy: 0.913\n",
      "Fold 3: Accuracy: 0.919\n",
      "Fold 4: Accuracy: 0.925\n",
      "Fold 5: Accuracy: 0.888\n",
      "Fold 6: Accuracy: 0.894\n",
      "Fold 7: Accuracy: 0.881\n",
      "Fold 8: Accuracy: 0.881\n",
      "Fold 9: Accuracy: 0.875\n",
      "Fold 10: Accuracy: 0.825\n",
      "Average Score is: 89.021%(2.717%)\n",
      "Time taken to run this model is 0.14064884185791016 sec\n"
     ]
    }
   ],
   "source": [
    "%%capture --no-stdout\n",
    "print('Selecting top 13 features')\n",
    "X_train_cp = X_train_1.copy()\n",
    "X_train_less = X_train_cp[['P','rolling_Earnings_mean12','E','Log_Ret_48_mth','rolling_Earnings_mean120',\n",
    "                           'D','CPI','Log_Ret_12_mth','Log_Ret_8_mth','Log_Ret_4_mth','Log_Ret_3_mth', \n",
    "                           'Log_Ret_2_mth','log_ret_1_mth','pct_change']]\n",
    "# scale features \n",
    "X_train_scale = fitting_scaler.fit_transform(X_train_less)\n",
    "\n",
    "start_time = time.time()\n",
    "kfold_model_run(lg, X_train_scale, y_train_1)\n",
    "elapsedtime = time.time() - start_time\n",
    "print('Time taken to run this model is {} sec'.format(elapsedtime))\n"
   ]
  },
  {
   "cell_type": "markdown",
   "metadata": {},
   "source": [
    "We can observe an average score worsening for about 9%. This could be due to some hidden interconnections between variables as well as not the best set of hyperparameters selected. Also, it is said that the k-fold does not work well for financial time series ,López de Prado [9] , and that walk-forward-cross-validation is considered better (this would be left as an area for future research). For now we'd try to perform hyperparameter tuning and to play on safe side, we'd use the set parameters which performed best on baseline model."
   ]
  },
  {
   "cell_type": "markdown",
   "metadata": {},
   "source": [
    "#### Model implementation\n",
    "In this section weèll implement five different classification algorithms, namely: Logistic Regression, Random Forest, KNN, Gradient boosting and Decision Tree to be performed on the training dataset using 10-fold cross-validation."
   ]
  },
  {
   "cell_type": "code",
   "execution_count": 40,
   "metadata": {},
   "outputs": [],
   "source": [
    "# scaling the features \n",
    "X_train_1_cp2 = X_train_1.copy()\n",
    "X_train = fitting_scaler.fit_transform(X_train_1_cp2)"
   ]
  },
  {
   "cell_type": "code",
   "execution_count": 41,
   "metadata": {},
   "outputs": [],
   "source": [
    "logistic_reg_model = LogisticRegression()\n",
    "Random_Forest_model = RandomForestClassifier()\n",
    "knn_model = KNeighborsClassifier(n_neighbors=20)\n",
    "g_boost = XGBClassifier()\n",
    "dtree_model = tree.DecisionTreeClassifier(criterion = \"entropy\",min_samples_leaf = 500)"
   ]
  },
  {
   "cell_type": "code",
   "execution_count": 42,
   "metadata": {
    "scrolled": true
   },
   "outputs": [
    {
     "name": "stdout",
     "output_type": "stream",
     "text": [
      "Running 10-fold validation on Logistic Regression\n",
      "Fold 1: Accuracy: 0.913\n",
      "Fold 2: Accuracy: 0.938\n",
      "Fold 3: Accuracy: 0.913\n",
      "Fold 4: Accuracy: 0.919\n",
      "Fold 5: Accuracy: 0.881\n",
      "Fold 6: Accuracy: 0.875\n",
      "Fold 7: Accuracy: 0.881\n",
      "Fold 8: Accuracy: 0.894\n",
      "Fold 9: Accuracy: 0.862\n",
      "Fold 10: Accuracy: 0.856\n",
      "Average Score is: 89.332%(2.527%)\n",
      "Running 10-fold validation on Decision Tree\n",
      "Fold 1: Accuracy: 1.0\n",
      "Fold 2: Accuracy: 1.0\n",
      "Fold 3: Accuracy: 1.0\n",
      "Fold 4: Accuracy: 1.0\n",
      "Fold 5: Accuracy: 1.0\n",
      "Fold 6: Accuracy: 1.0\n",
      "Fold 7: Accuracy: 1.0\n",
      "Fold 8: Accuracy: 1.0\n",
      "Fold 9: Accuracy: 1.0\n",
      "Fold 10: Accuracy: 0.994\n",
      "Average Score is: 99.938%(0.188%)\n",
      "Running 10-fold validation on Random Forest\n",
      "Fold 1: Accuracy: 1.0\n",
      "Fold 2: Accuracy: 1.0\n",
      "Fold 3: Accuracy: 1.0\n",
      "Fold 4: Accuracy: 1.0\n",
      "Fold 5: Accuracy: 1.0\n",
      "Fold 6: Accuracy: 1.0\n",
      "Fold 7: Accuracy: 1.0\n",
      "Fold 8: Accuracy: 1.0\n",
      "Fold 9: Accuracy: 1.0\n",
      "Fold 10: Accuracy: 0.994\n",
      "Average Score is: 99.938%(0.188%)\n",
      "Running 10-fold validation on KNN, K = 20\n",
      "Fold 1: Accuracy: 0.826\n",
      "Fold 2: Accuracy: 0.87\n",
      "Fold 3: Accuracy: 0.851\n",
      "Fold 4: Accuracy: 0.863\n",
      "Fold 5: Accuracy: 0.85\n",
      "Fold 6: Accuracy: 0.888\n",
      "Fold 7: Accuracy: 0.819\n",
      "Fold 8: Accuracy: 0.781\n",
      "Fold 9: Accuracy: 0.712\n",
      "Fold 10: Accuracy: 0.656\n",
      "Average Score is: 81.162%(7.068%)\n",
      "Running 10-fold validation on Gradient Boosting\n",
      "Fold 1: Accuracy: 1.0\n",
      "Fold 2: Accuracy: 1.0\n",
      "Fold 3: Accuracy: 1.0\n",
      "Fold 4: Accuracy: 1.0\n",
      "Fold 5: Accuracy: 1.0\n",
      "Fold 6: Accuracy: 1.0\n",
      "Fold 7: Accuracy: 1.0\n",
      "Fold 8: Accuracy: 1.0\n",
      "Fold 9: Accuracy: 1.0\n",
      "Fold 10: Accuracy: 0.994\n",
      "Average Score is: 99.938%(0.188%)\n"
     ]
    }
   ],
   "source": [
    "%%capture --no-stdout\n",
    "# fit models with training data.\n",
    "print('Running 10-fold validation on Logistic Regression')\n",
    "kfold_model_run(logistic_reg_model, X_train, y_train_1)\n",
    "print('Running 10-fold validation on Decision Tree')\n",
    "dt = kfold_model_run(dtree_model, X_train, y_train_1)\n",
    "print('Running 10-fold validation on Random Forest')\n",
    "kfold_model_run(Random_Forest_model, X_train, y_train_1)\n",
    "print('Running 10-fold validation on KNN, K = 20')\n",
    "kfold_model_run(knn_model, X_train, y_train_1)\n",
    "print('Running 10-fold validation on Gradient Boosting')\n",
    "kfold_model_run(g_boost, X_train, y_train_1)"
   ]
  },
  {
   "cell_type": "markdown",
   "metadata": {},
   "source": [
    "Logistic regression accuracy somehow deteriorated, decision tree, random forest and XGBoost shown good results. But we should not be too excited since decision trees are prone to overfitting and we must see the overall performance on out-of-sample test set"
   ]
  },
  {
   "cell_type": "markdown",
   "metadata": {},
   "source": [
    "#### Performing Model Tuning \n",
    "Goals: \n",
    " - Improve the performance of the models from the previous step and select a final optimal model using grid search (parameter sweep) based on a metric (or metrics) choosen. \n",
    "- Selecting performance measures, such as accuracy, true positive rate (TPR), false positive rate (FPR), etc, to compare the model performance and explain why the selected criteria was choosen for best model \n",
    "\n",
    "from http://scikit-learn.org/stable/modules/model_evaluation.html#scoring-parameter\n",
    "We are chosing GridSearchCV, a method for tuning the hyperparameters that would result in optimized model selection.\n",
    "\n",
    "Model selection and evaluation using tools, such as model_selection.GridSearchCV and model_selection.cross_val_score, take a scoring parameter that controls what metric they apply to the estimators evaluated.\n",
    "\n",
    "Grid search is building several models having all the combinations of parameter in place,. It then runs a defult of three cross validations to return a set of parameters which proved to have highest accuracy score on the validation set based on the chosen accuracy scorer.\n",
    "\n",
    "GridSearchCV automatically refits the best model using all of the data that best fitted model is stored in grid object \n",
    "we can then use prediction using the best fitted model\n",
    "\n",
    "A search consists of:\n",
    "-an estimator (regressor or classifier such as RandomForestClassifier(), or LogisticRegression())\n",
    "-a parameter space\n",
    "-a method for searching or sampling candidates\n",
    "-a cross-validation scheme\n",
    "-a score function, such as accurracy_score()\n",
    "\n",
    "We used The accuracy_score fuction of defult library to compare the scores across  different hyper-parameters. \n",
    "The optimal hyperparameter set is then chosen to run 10-fold cross validation in order to obtain the average score of optimal parameters. It was also used to get the confusion matrix and run-time of all the implemented algorithms. \n",
    "\n",
    "On a separate note - other techniques like Random search and more advanced Baesian frameworks are used generally. The latter proven to be one of the most efficient approaches for search in hyperparameter space.\n",
    "\n",
    "Finally, we selected the model with highest score which has proven to be the Gradient boosting."
   ]
  },
  {
   "cell_type": "code",
   "execution_count": 43,
   "metadata": {},
   "outputs": [],
   "source": [
    "### Logistic Regression model hyper-parameter tuning\n",
    "lg = LogisticRegression(random_state=42)\n",
    "# Creating hyperparameter search space  and regularization penalty space\n",
    "\n",
    "penalty = ['l1', 'l2']\n",
    "# Creating regularization hyperparameter space\n",
    "C = np.logspace(0, 4, 10)\n",
    "\n",
    "# Creating hyperparameter options\n",
    "lg_params = dict(C=C, penalty=penalty)\n",
    "\n",
    "### Decision Tree model hyper-parameter tuning\n",
    "dt = tree.DecisionTreeClassifier()\n",
    "\n",
    "# Choosing some parameter combinations to tune\n",
    "dt_params = {\"criterion\": [\"gini\", \"entropy\"],\n",
    "              \"min_samples_split\": [2, 10, 20],\n",
    "              \"max_depth\": [None, 2, 5, 10],\n",
    "              \"min_samples_leaf\": [1, 5, 10, 100,500, 1000],\n",
    "              \"max_leaf_nodes\": [None, 5, 10, 20,25],\n",
    "              }\n",
    "\n",
    "### Random Forest model hyper-parameter tuning\n",
    "rf = RandomForestClassifier()\n",
    "\n",
    "# Choosing some parameter combinations to tune\n",
    "rf_params = {'n_estimators': [4, 9, 15], \n",
    "              'max_features': ['log2', 'sqrt','auto'], \n",
    "              'criterion': ['entropy', 'gini'],\n",
    "              'max_depth': [2, 5, 10,15], \n",
    "              'min_samples_split': [2, 3, 5,10],\n",
    "              'min_samples_leaf': [1,5,8]\n",
    "             }\n",
    "\n",
    "### KNN model hyper-parameter tuning\n",
    "knn = KNeighborsClassifier()\n",
    "# Choosing some parameter combinations to tune\n",
    "knn_params = {\"n_neighbors\": np.arange(5, 35, 4), \n",
    "              \"metric\": [\"euclidean\", 'minkowski']}\n",
    "\n",
    "### Gradient boost model hyper-parameter tuning\n",
    "gboost = XGBClassifier()\n",
    "\n",
    "# Choosing some parameter combinations to tune\n",
    "gboost_params = {'gamma': [0.05, 0.1, 0.3, 0.5,1], \n",
    "              'max_depth': [3, 5, 9], \n",
    "              'subsample': [0.6, 0.8, 0.9, 1]\n",
    "                }\n",
    "\n",
    "def run_gridsearch(clf, X, y, hyperparameters, cv=5):\n",
    "    \n",
    "    # Using classification accuracy to compare parameter combinations\n",
    "    acc_scorer = make_scorer(accuracy_score)\n",
    "\n",
    "\n",
    "    # Creating grid search using k-fold cross-validation\n",
    "    grid_search = GridSearchCV(clf, hyperparameters, cv=cv, scoring=acc_scorer)\n",
    "    grid_search = grid_search.fit(X, y)\n",
    "    \n",
    "    print('Best Score is:')\n",
    "    best_score = grid_search.best_score_ \n",
    "    print((best_score*100))\n",
    "    print('Best Model Hyperparameters are:')\n",
    "    print(grid_search.best_params_)\n",
    "    print('Best Model fit is:')\n",
    "    print(grid_search.best_estimator_)\n",
    "    \n",
    "    # Setting classifier to utilize the best parameters combination\n",
    "    best_clf = grid_search.best_estimator_\n",
    "     \n",
    "    return best_clf"
   ]
  },
  {
   "cell_type": "code",
   "execution_count": 44,
   "metadata": {},
   "outputs": [
    {
     "name": "stdout",
     "output_type": "stream",
     "text": [
      "Logistic Regression Tuning\n",
      "Best Score is:\n",
      "98.31619937694704\n",
      "Best Model Hyperparameters are:\n",
      "{'C': 10000.0, 'penalty': 'l2'}\n",
      "Best Model fit is:\n",
      "LogisticRegression(C=10000.0, class_weight=None, dual=False, fit_intercept=True,\n",
      "                   intercept_scaling=1, l1_ratio=None, max_iter=100,\n",
      "                   multi_class='auto', n_jobs=None, penalty='l2',\n",
      "                   random_state=42, solver='lbfgs', tol=0.0001, verbose=0,\n",
      "                   warm_start=False)\n",
      "Decision Tree Tuning\n",
      "Best Score is:\n",
      "99.875\n",
      "Best Model Hyperparameters are:\n",
      "{'criterion': 'gini', 'max_depth': None, 'max_leaf_nodes': None, 'min_samples_leaf': 1, 'min_samples_split': 2}\n",
      "Best Model fit is:\n",
      "DecisionTreeClassifier(ccp_alpha=0.0, class_weight=None, criterion='gini',\n",
      "                       max_depth=None, max_features=None, max_leaf_nodes=None,\n",
      "                       min_impurity_decrease=0.0, min_impurity_split=None,\n",
      "                       min_samples_leaf=1, min_samples_split=2,\n",
      "                       min_weight_fraction_leaf=0.0, presort='deprecated',\n",
      "                       random_state=None, splitter='best')\n",
      "Random Forest Tuning\n",
      "Best Score is:\n",
      "99.9375\n",
      "Best Model Hyperparameters are:\n",
      "{'criterion': 'entropy', 'max_depth': 2, 'max_features': 'log2', 'min_samples_leaf': 8, 'min_samples_split': 3, 'n_estimators': 4}\n",
      "Best Model fit is:\n",
      "RandomForestClassifier(bootstrap=True, ccp_alpha=0.0, class_weight=None,\n",
      "                       criterion='entropy', max_depth=2, max_features='log2',\n",
      "                       max_leaf_nodes=None, max_samples=None,\n",
      "                       min_impurity_decrease=0.0, min_impurity_split=None,\n",
      "                       min_samples_leaf=8, min_samples_split=3,\n",
      "                       min_weight_fraction_leaf=0.0, n_estimators=4,\n",
      "                       n_jobs=None, oob_score=False, random_state=None,\n",
      "                       verbose=0, warm_start=False)\n",
      "KNN Tuning\n",
      "Best Score is:\n",
      "63.150311526479754\n",
      "Best Model Hyperparameters are:\n",
      "{'metric': 'euclidean', 'n_neighbors': 33}\n",
      "Best Model fit is:\n",
      "KNeighborsClassifier(algorithm='auto', leaf_size=30, metric='euclidean',\n",
      "                     metric_params=None, n_jobs=None, n_neighbors=33, p=2,\n",
      "                     weights='uniform')\n",
      "Gradient Boosting Tuning\n",
      "Best Score is:\n",
      "99.875\n",
      "Best Model Hyperparameters are:\n",
      "{'gamma': 0.05, 'max_depth': 3, 'subsample': 0.6}\n",
      "Best Model fit is:\n",
      "XGBClassifier(base_score=0.5, booster='gbtree', colsample_bylevel=1,\n",
      "              colsample_bynode=1, colsample_bytree=1, gamma=0.05, gpu_id=-1,\n",
      "              importance_type='gain', interaction_constraints='',\n",
      "              learning_rate=0.300000012, max_delta_step=0, max_depth=3,\n",
      "              min_child_weight=1, missing=nan, monotone_constraints='()',\n",
      "              n_estimators=100, n_jobs=0, num_parallel_tree=1,\n",
      "              objective='binary:logistic', random_state=0, reg_alpha=0,\n",
      "              reg_lambda=1, scale_pos_weight=1, subsample=0.6,\n",
      "              tree_method='exact', validate_parameters=1, verbosity=None)\n"
     ]
    }
   ],
   "source": [
    "%%capture --no-stdout\n",
    "print('Logistic Regression Tuning')\n",
    "best_lg = run_gridsearch(lg, X_train, y_train_1, lg_params)\n",
    "print('Decision Tree Tuning')\n",
    "best_dt = run_gridsearch(dt, X_train, y_train_1, dt_params)\n",
    "print('Random Forest Tuning')\n",
    "best_rf = run_gridsearch(rf, X_train, y_train_1, rf_params)\n",
    "print('KNN Tuning')\n",
    "best_knn = run_gridsearch(knn, X_train, y_train_1, knn_params)\n",
    "print('Gradient Boosting Tuning')\n",
    "best_gboost = run_gridsearch(gboost, X_train, y_train_1, gboost_params)"
   ]
  },
  {
   "cell_type": "markdown",
   "metadata": {},
   "source": [
    "As it was envisioned as a possible outcome - Logistic regression's performance is good again on full set of parameters. This is true even when comparing logistic regression results on 10-fold validation for Logistic Regression (88% then vs 98.3% now after tuning). However, the absolute winner seems to be XGboost with 99.875% prediction accuracy on training set. Random forests demonstrated same accuracy (on some runs it is even higher like in case of last run)."
   ]
  },
  {
   "cell_type": "code",
   "execution_count": 45,
   "metadata": {},
   "outputs": [],
   "source": [
    "# Now we are performing the evaluation of the best performing model once the hyperparameter tuning is made\n",
    "\n",
    "def model_eval(best_clf, X, y, K=5):\n",
    "    # Fitting the best model with optimal hyperparameters to the training data. \n",
    "    kfold = KFold(n_splits=K)\n",
    "    kfold.get_n_splits(X)\n",
    "    \n",
    "    # calculating the accuracy below\n",
    "    accuracy = np.zeros(K)\n",
    "    np_idx = 0\n",
    "    best_acc = 0\n",
    "    for train_idx, test_idx in kfold.split(X):\n",
    "        X_train, X_test = X[train_idx], X[test_idx]\n",
    "        y_train, y_test = y.values[train_idx], y.values[test_idx]\n",
    "\n",
    "        best_clf.fit(X_train, y_train)\n",
    "\n",
    "        predictions = best_clf.predict(X_test)\n",
    "\n",
    "        ACC = accuracy_score(y_test, predictions)\n",
    "        accuracy[np_idx] = ACC*100\n",
    "        np_idx += 1\n",
    "\n",
    "          \n",
    "        if ACC > best_acc:\n",
    "            best_acc = ACC\n",
    "            perform_measure = confusion_matrix(y_test, predictions)\n",
    "    print(\"Model {}\".format(best_clf))\n",
    "    print (\"The average score is: {}%({}%)\".format(round(np.mean(accuracy),3),\n",
    "                                            round(np.std(accuracy),3)))\n",
    "    print ('The confussion matrix is:')\n",
    "    print(perform_measure)\n",
    "    return True "
   ]
  },
  {
   "cell_type": "code",
   "execution_count": 46,
   "metadata": {},
   "outputs": [
    {
     "name": "stdout",
     "output_type": "stream",
     "text": [
      "Logistic Regression\n",
      "Model LogisticRegression(C=10000.0, class_weight=None, dual=False, fit_intercept=True,\n",
      "                   intercept_scaling=1, l1_ratio=None, max_iter=100,\n",
      "                   multi_class='auto', n_jobs=None, penalty='l2',\n",
      "                   random_state=42, solver='lbfgs', tol=0.0001, verbose=0,\n",
      "                   warm_start=False)\n",
      "The average score is: 98.066%(1.347%)\n",
      "The confussion matrix is:\n",
      "[[130   0]\n",
      " [  1 190]]\n",
      "Time taken to run Logistic Regression model is 0.17057228088378906 sec\n",
      "Random Forest\n",
      "Model RandomForestClassifier(bootstrap=True, ccp_alpha=0.0, class_weight=None,\n",
      "                       criterion='entropy', max_depth=2, max_features='log2',\n",
      "                       max_leaf_nodes=None, max_samples=None,\n",
      "                       min_impurity_decrease=0.0, min_impurity_split=None,\n",
      "                       min_samples_leaf=8, min_samples_split=3,\n",
      "                       min_weight_fraction_leaf=0.0, n_estimators=4,\n",
      "                       n_jobs=None, oob_score=False, random_state=None,\n",
      "                       verbose=0, warm_start=False)\n",
      "The average score is: 97.507%(2.814%)\n",
      "The confussion matrix is:\n",
      "[[175   0]\n",
      " [  0 146]]\n",
      "Time taken to run Random Forest model is 0.05984067916870117 sec\n",
      "K-NN\n",
      "Model KNeighborsClassifier(algorithm='auto', leaf_size=30, metric='euclidean',\n",
      "                     metric_params=None, n_jobs=None, n_neighbors=33, p=2,\n",
      "                     weights='uniform')\n",
      "The average score is: 82.913%(4.489%)\n",
      "The confussion matrix is:\n",
      "[[ 99  30]\n",
      " [  9 183]]\n",
      "Time taken to run KNN model is 0.17353606224060059 sec\n",
      "Gradient Boosting\n",
      "Model XGBClassifier(base_score=0.5, booster='gbtree', colsample_bylevel=1,\n",
      "              colsample_bynode=1, colsample_bytree=1, gamma=0, gpu_id=-1,\n",
      "              importance_type='gain', interaction_constraints='',\n",
      "              learning_rate=0.300000012, max_delta_step=0, max_depth=6,\n",
      "              min_child_weight=1, missing=nan, monotone_constraints='()',\n",
      "              n_estimators=100, n_jobs=0, num_parallel_tree=1,\n",
      "              objective='binary:logistic', random_state=0, reg_alpha=0,\n",
      "              reg_lambda=1, scale_pos_weight=1, subsample=1,\n",
      "              tree_method='exact', validate_parameters=1, verbosity=None)\n",
      "The average score is: 99.875%(0.25%)\n",
      "The confussion matrix is:\n",
      "[[175   0]\n",
      " [  0 146]]\n",
      "Time taken to run Gradient Boosting model is 0.33709716796875 sec\n",
      "Decision Tree\n",
      "Model DecisionTreeClassifier(ccp_alpha=0.0, class_weight=None, criterion='gini',\n",
      "                       max_depth=None, max_features=None, max_leaf_nodes=None,\n",
      "                       min_impurity_decrease=0.0, min_impurity_split=None,\n",
      "                       min_samples_leaf=1, min_samples_split=2,\n",
      "                       min_weight_fraction_leaf=0.0, presort='deprecated',\n",
      "                       random_state=None, splitter='best')\n",
      "The average score is: 99.875%(0.25%)\n",
      "The confussion matrix is:\n",
      "[[175   0]\n",
      " [  0 146]]\n",
      "Time taken to run Decision Tree model is 0.030916929244995117 sec\n"
     ]
    }
   ],
   "source": [
    "%%capture --no-stdout\n",
    "print('Logistic Regression')\n",
    "start_time = time.time()\n",
    "model_eval(best_lg, X_train, y_train_1)\n",
    "elapsedtime = time.time() - start_time\n",
    "print('Time taken to run Logistic Regression model is {} sec'.format(elapsedtime))\n",
    "\n",
    "print('Random Forest')\n",
    "start_time = time.time()\n",
    "model_eval(best_rf, X_train, y_train_1)\n",
    "elapsedtime = time.time() - start_time\n",
    "print('Time taken to run Random Forest model is {} sec'.format(elapsedtime))\n",
    "\n",
    "print('K-NN')\n",
    "start_time = time.time()\n",
    "model_eval(best_knn, X_train, y_train_1)\n",
    "elapsedtime = time.time() - start_time\n",
    "print('Time taken to run KNN model is {} sec'.format(elapsedtime))\n",
    "\n",
    "\n",
    "print('Gradient Boosting')\n",
    "start_time = time.time()\n",
    "model_eval(g_boost, X_train, y_train_1)\n",
    "elapsedtime = time.time() - start_time\n",
    "print('Time taken to run Gradient Boosting model is {} sec'.format(elapsedtime))\n",
    "\n",
    "print('Decision Tree')\n",
    "start_time = time.time()\n",
    "model_eval(best_dt, X_train, y_train_1)\n",
    "elapsedtime = time.time() - start_time\n",
    "print('Time taken to run Decision Tree model is {} sec'.format(elapsedtime))"
   ]
  },
  {
   "cell_type": "markdown",
   "metadata": {},
   "source": [
    "# Testing of best performing Model\n",
    "\n",
    "We will try to make a prediciton test dataset for market direction prediction using the most optimal XGBoost model implemented above\n",
    "\n",
    "We must also answer the question: how the model performs on the test data vs. the train data?\n",
    "The overall fit of the model, how to increase the accuracy (test, training)? Is it overfitting or underfitting\n",
    "\n",
    "In order to find answers to these questions we've tried to compare the training and testing accuracy\n",
    "and found out that the latter is comparable to the training accuracy. Hence, we would be able to conclude whether the model behaves well or not."
   ]
  },
  {
   "cell_type": "code",
   "execution_count": 47,
   "metadata": {},
   "outputs": [],
   "source": [
    "%%capture --no-stdout\n",
    "# obtaining the most optimal model\n",
    "optimal_model =  best_gboost\n",
    "X_test_1_cp = X_test_1.copy()\n",
    "\n",
    "# scaling all the features \n",
    "X_test = fitting_scaler.fit_transform(X_test_1_cp)\n",
    "\n",
    "# training the optimal model on the entire training dataset \n",
    "optimal_model.fit(X_train, y_train_1)\n",
    "\n"
   ]
  },
  {
   "cell_type": "markdown",
   "metadata": {},
   "source": [
    "Predicting the testing dataset's 'dir' category"
   ]
  },
  {
   "cell_type": "code",
   "execution_count": 48,
   "metadata": {},
   "outputs": [
    {
     "name": "stdout",
     "output_type": "stream",
     "text": [
      "Acuracy Score of the Optimal Model is: 68.0%\n",
      "The Confussion Matrix is:\n",
      "[[  2  58]\n",
      " [  0 119]]\n"
     ]
    }
   ],
   "source": [
    "predictions = optimal_model.predict(X_test)\n",
    "ACC = accuracy_score(y_test_1, predictions)\n",
    "perform_measure = confusion_matrix(y_test_1, predictions)\n",
    "\n",
    "print(\"Acuracy Score of the Optimal Model is: {}%\".format(round(ACC*100),1))\n",
    "print ('The Confussion Matrix is:')\n",
    "print(perform_measure)"
   ]
  },
  {
   "cell_type": "markdown",
   "metadata": {},
   "source": [
    "Accuracy of XGBoost dropped to 68.0% on unseen data which is not too bad, but it should be investigated how to improve this result. One of the reasons is the higher imbalance of 'Ups' vs 'Downs' in testing dataset as one can see from results below."
   ]
  },
  {
   "cell_type": "code",
   "execution_count": null,
   "metadata": {},
   "outputs": [],
   "source": []
  },
  {
   "cell_type": "markdown",
   "metadata": {},
   "source": [
    "Further thoughts on possible imbalance of sets "
   ]
  },
  {
   "cell_type": "code",
   "execution_count": 49,
   "metadata": {},
   "outputs": [
    {
     "name": "stdout",
     "output_type": "stream",
     "text": [
      "895\n"
     ]
    },
    {
     "data": {
      "text/plain": [
       "0.5579800498753117"
      ]
     },
     "execution_count": 49,
     "metadata": {},
     "output_type": "execute_result"
    }
   ],
   "source": [
    "y_train_ups = (y_train_1['dir'] == 1).sum()\n",
    "print(y_train_ups)\n",
    "\n",
    "y_trn_ups_pct = y_train_ups / y_train_1['dir'].count().astype(float)\n",
    "y_trn_ups_pct"
   ]
  },
  {
   "cell_type": "code",
   "execution_count": 50,
   "metadata": {},
   "outputs": [
    {
     "name": "stdout",
     "output_type": "stream",
     "text": [
      "119\n"
     ]
    },
    {
     "data": {
      "text/plain": [
       "0.664804469273743"
      ]
     },
     "execution_count": 50,
     "metadata": {},
     "output_type": "execute_result"
    }
   ],
   "source": [
    "y_test_ups = (y_test_1['dir'] == 1).sum()\n",
    "print(y_test_ups)\n",
    "\n",
    "y_tst_ups_pct = y_test_ups / y_test_1['dir'].count().astype(float)\n",
    "y_tst_ups_pct"
   ]
  },
  {
   "cell_type": "markdown",
   "metadata": {},
   "source": [
    "In the training set the distribution is roughly 56%-44% in favor of “Up”s, and for the test set it is 66%-34% also in favor of “Up”s. Different techniques are in place to do resamplings for imbalanced classes , e.g. SMOTE or recently GAN's. But our imbalance is not really huge and also the GANs is seemingly a heavy machinery which is out of scope of this mini-evaluation. We'd conentrate more on AUC (area under ROC curve), which is said to be not sensitive to imbalances"
   ]
  },
  {
   "cell_type": "markdown",
   "metadata": {},
   "source": [
    "### Limitations\n",
    "This model does not account for inflation - consistently defined and longterm running series on U.S. inflation since the 1920’s does not exist and inflation expectations could be modelled as the average of the predicted CPI inflation rate over the next 10 years generated from an AR model at any month in time [10].\n",
    "Model's behaviour in case of negative interest rates remains a topic for investigation"
   ]
  },
  {
   "cell_type": "markdown",
   "metadata": {},
   "source": [
    "### Future area of research\n",
    "Another area of future research could be using partial differencing,  because using standard differencing results in loss of memory for the sake of achieving stationarity, López de Prado[8]\n",
    "\n",
    "As another state-of-the-art we select LSTM method mainly due to its property to  presere and train the features  of  given  data for  larger timeframes. A notable mention is bidirectional LSTM (BiLSTM) version"
   ]
  },
  {
   "cell_type": "markdown",
   "metadata": {},
   "source": [
    "### References"
   ]
  },
  {
   "cell_type": "markdown",
   "metadata": {},
   "source": [
    "[1] _Online Data Robert Shiller_ , weblink: http://www.econ.yale.edu/~shiller/data.htm\n",
    "\n",
    "[2] Robert J. Shiller, _Irrational Exuberance_ [Princeton University Press 2000, Broadway Books 2001, 2nd ed., 2005] \n",
    "\n",
    "[3] Xiaoyue Wang, Abdullah Mueen, Hui Ding, Goce Trajcevski, Peter Scheuermann, and Eamonn Keogh. _Experimental comparison of representation methods and distance measures for time series data_. Data Mining and Knowledge Discovery, 26(2):275–309, 2013."
   ]
  },
  {
   "cell_type": "markdown",
   "metadata": {},
   "source": [
    "[4] Merton H. Miller and Kevin Rock, _Dividend Policy under Asymmetric Information_ The Journal of Finance\n",
    "Vol. 40, No. 4 (Sep., 1985), pp. 1031-1051"
   ]
  },
  {
   "cell_type": "markdown",
   "metadata": {},
   "source": [
    "[5] Stephen Marra,  _Predicting volatility_ , Lazard Asset Management, weblink: \n",
    "https://www.lazardassetmanagement.com/docs/-m0-/22430/predictingvolatility_lazardresearch_en.pdf\n",
    "\n",
    "[6] _Price Rate Of Change Indicator (ROC)_ , weblink: https://www.investopedia.com/terms/p/pricerateofchange.asp\n",
    "\n",
    "[7] Chen, K., Zhou, Y., & Dai, F. (2015), _A LSTM-based method for stock returns\n",
    "prediction: A case study of china stock market_ , in Proceedings of the 2015 IEEE\n",
    "International Conference on Big Data, pp. 2823–2824.\n",
    "\n",
    "[8] López de Prado, Marcos, _Ten Financial Applications of Machine Learning (Seminar Slides)_ (June 16, 2018). Available at SSRN: https://ssrn.com/abstract=3197726 or http://dx.doi.org/10.2139/ssrn.3197726\n",
    "\n",
    "[9] López de Prado, M. (2018), _Advances in Financial Machine Learning_ , New Jersey 2018\n",
    "\n",
    "[10] Wang, Haifeng and Ahluwalia, Harshdeep and Aliaga-Diaz, Roger A and Davis, Joseph H., _The Best of Both Worlds: Forecasting US Equity Market Returns using a Hybrid Machine Learning – Time Series Approach_ (December 2, 2019). Available at SSRN: https://ssrn.com/abstract=3497170 or http://dx.doi.org/10.2139/ssrn.3497170\n",
    "\n",
    "[11] R. Nau, _Statistical Forecasting_ weblink: a) https://people.duke.edu/~rnau/Notes_on_nonseasonal_ARIMA_models--Robert_Nau.pdf , \n",
    "\n",
    "b) https://people.duke.edu/~rnau/Slides_on_ARIMA_models--Robert_Nau.pdf\n",
    "\n",
    "[12] weblink: https://www.machinelearningplus.com/time-series/arima-model-time-series-forecasting-python/\n"
   ]
  },
  {
   "cell_type": "code",
   "execution_count": null,
   "metadata": {},
   "outputs": [],
   "source": []
  }
 ],
 "metadata": {
  "kernelspec": {
   "display_name": "Python 3",
   "language": "python",
   "name": "python3"
  },
  "language_info": {
   "codemirror_mode": {
    "name": "ipython",
    "version": 3
   },
   "file_extension": ".py",
   "mimetype": "text/x-python",
   "name": "python",
   "nbconvert_exporter": "python",
   "pygments_lexer": "ipython3",
   "version": "3.7.6"
  }
 },
 "nbformat": 4,
 "nbformat_minor": 4
}
